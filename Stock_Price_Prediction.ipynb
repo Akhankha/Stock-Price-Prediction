{
  "nbformat": 4,
  "nbformat_minor": 0,
  "metadata": {
    "colab": {
      "name": "Stock Price Prediction.ipynb",
      "provenance": []
    },
    "kernelspec": {
      "name": "python3",
      "display_name": "Python 3"
    },
    "language_info": {
      "name": "python"
    }
  },
  "cells": [
    {
      "cell_type": "code",
      "metadata": {
        "id": "QBItw0YqfSxn"
      },
      "source": [
        "import numpy as np\n",
        "import pandas as pd"
      ],
      "execution_count": 1,
      "outputs": []
    },
    {
      "cell_type": "code",
      "metadata": {
        "id": "qO4BWq52fW0r"
      },
      "source": [
        "import matplotlib.pyplot as plt\n",
        "import warnings\n",
        "warnings.filterwarnings('ignore')"
      ],
      "execution_count": 2,
      "outputs": []
    },
    {
      "cell_type": "code",
      "metadata": {
        "id": "O7veOGtVfnP-"
      },
      "source": [
        "# Importing the training set\n",
        "df=pd.read_csv('/content/Uniqlo(FastRetailing) 2012-2016 Training - stocks2012-2016.csv')"
      ],
      "execution_count": 3,
      "outputs": []
    },
    {
      "cell_type": "code",
      "metadata": {
        "colab": {
          "base_uri": "https://localhost:8080/",
          "height": 203
        },
        "id": "KIG8XuhDgjxV",
        "outputId": "27ff3b63-bc2e-4297-f7e4-08d84f7b5aa4"
      },
      "source": [
        "df.head()"
      ],
      "execution_count": 4,
      "outputs": [
        {
          "output_type": "execute_result",
          "data": {
            "text/html": [
              "<div>\n",
              "<style scoped>\n",
              "    .dataframe tbody tr th:only-of-type {\n",
              "        vertical-align: middle;\n",
              "    }\n",
              "\n",
              "    .dataframe tbody tr th {\n",
              "        vertical-align: top;\n",
              "    }\n",
              "\n",
              "    .dataframe thead th {\n",
              "        text-align: right;\n",
              "    }\n",
              "</style>\n",
              "<table border=\"1\" class=\"dataframe\">\n",
              "  <thead>\n",
              "    <tr style=\"text-align: right;\">\n",
              "      <th></th>\n",
              "      <th>Date</th>\n",
              "      <th>Open</th>\n",
              "      <th>High</th>\n",
              "      <th>Low</th>\n",
              "      <th>Close</th>\n",
              "      <th>Volume</th>\n",
              "      <th>Stock Trading</th>\n",
              "    </tr>\n",
              "  </thead>\n",
              "  <tbody>\n",
              "    <tr>\n",
              "      <th>0</th>\n",
              "      <td>2016-12-30</td>\n",
              "      <td>42120</td>\n",
              "      <td>42330</td>\n",
              "      <td>41700</td>\n",
              "      <td>41830</td>\n",
              "      <td>610000</td>\n",
              "      <td>25628028000</td>\n",
              "    </tr>\n",
              "    <tr>\n",
              "      <th>1</th>\n",
              "      <td>2016-12-29</td>\n",
              "      <td>43000</td>\n",
              "      <td>43220</td>\n",
              "      <td>42540</td>\n",
              "      <td>42660</td>\n",
              "      <td>448400</td>\n",
              "      <td>19188227000</td>\n",
              "    </tr>\n",
              "    <tr>\n",
              "      <th>2</th>\n",
              "      <td>2016-12-28</td>\n",
              "      <td>43940</td>\n",
              "      <td>43970</td>\n",
              "      <td>43270</td>\n",
              "      <td>43270</td>\n",
              "      <td>339900</td>\n",
              "      <td>14780670000</td>\n",
              "    </tr>\n",
              "    <tr>\n",
              "      <th>3</th>\n",
              "      <td>2016-12-27</td>\n",
              "      <td>43140</td>\n",
              "      <td>43700</td>\n",
              "      <td>43140</td>\n",
              "      <td>43620</td>\n",
              "      <td>400100</td>\n",
              "      <td>17427993000</td>\n",
              "    </tr>\n",
              "    <tr>\n",
              "      <th>4</th>\n",
              "      <td>2016-12-26</td>\n",
              "      <td>43310</td>\n",
              "      <td>43660</td>\n",
              "      <td>43090</td>\n",
              "      <td>43340</td>\n",
              "      <td>358200</td>\n",
              "      <td>15547803000</td>\n",
              "    </tr>\n",
              "  </tbody>\n",
              "</table>\n",
              "</div>"
            ],
            "text/plain": [
              "         Date   Open   High    Low  Close  Volume  Stock Trading\n",
              "0  2016-12-30  42120  42330  41700  41830  610000    25628028000\n",
              "1  2016-12-29  43000  43220  42540  42660  448400    19188227000\n",
              "2  2016-12-28  43940  43970  43270  43270  339900    14780670000\n",
              "3  2016-12-27  43140  43700  43140  43620  400100    17427993000\n",
              "4  2016-12-26  43310  43660  43090  43340  358200    15547803000"
            ]
          },
          "metadata": {},
          "execution_count": 4
        }
      ]
    },
    {
      "cell_type": "code",
      "metadata": {
        "colab": {
          "base_uri": "https://localhost:8080/"
        },
        "id": "7HWsQ4frgnxf",
        "outputId": "3aee1419-f092-44fd-e730-d6e2cf9b4c24"
      },
      "source": [
        "train =df.loc[:,[\"Open\"]].values\n",
        "train"
      ],
      "execution_count": 5,
      "outputs": [
        {
          "output_type": "execute_result",
          "data": {
            "text/plain": [
              "array([[42120],\n",
              "       [43000],\n",
              "       [43940],\n",
              "       ...,\n",
              "       [13990],\n",
              "       [13720],\n",
              "       [14050]])"
            ]
          },
          "metadata": {},
          "execution_count": 5
        }
      ]
    },
    {
      "cell_type": "code",
      "metadata": {
        "colab": {
          "base_uri": "https://localhost:8080/"
        },
        "id": "FRcbbP4fg1ZW",
        "outputId": "c0c9e046-f67f-48a8-fb76-4696c131b26a"
      },
      "source": [
        "# Feature Scaling\n",
        "from sklearn.preprocessing import MinMaxScaler\n",
        "scaler = MinMaxScaler(feature_range = (0,1))\n",
        "train_scaled = scaler.fit_transform(train)\n",
        "train_scaled.shape"
      ],
      "execution_count": 6,
      "outputs": [
        {
          "output_type": "execute_result",
          "data": {
            "text/plain": [
              "(1226, 1)"
            ]
          },
          "metadata": {},
          "execution_count": 6
        }
      ]
    },
    {
      "cell_type": "code",
      "metadata": {
        "colab": {
          "base_uri": "https://localhost:8080/",
          "height": 265
        },
        "id": "YtyKmybciH_r",
        "outputId": "9b998ac3-d524-441e-ef88-32e147d5dee0"
      },
      "source": [
        "# train part\n",
        "N=1000\n",
        "plt.plot(train_scaled[:N])\n",
        "plt.show()"
      ],
      "execution_count": 7,
      "outputs": [
        {
          "output_type": "display_data",
          "data": {
            "image/png": "[encoded data removed]",
            "text/plain": [
              "<Figure size 432x288 with 1 Axes>"
            ]
          },
          "metadata": {
            "needs_background": "light"
          }
        }
      ]
    },
    {
      "cell_type": "code",
      "metadata": {
        "colab": {
          "base_uri": "https://localhost:8080/",
          "height": 265
        },
        "id": "eyR_akD2iXJ9",
        "outputId": "43c19efa-69ac-4580-d85d-d34b9ba5fd0b"
      },
      "source": [
        "# we are going to predict the last 1226-N values \n",
        "plt.plot(train_scaled[N:])\n",
        "plt.show()"
      ],
      "execution_count": 8,
      "outputs": [
        {
          "output_type": "display_data",
          "data": {
            "image/png": "[encoded data removed]",
            "text/plain": [
              "<Figure size 432x288 with 1 Axes>"
            ]
          },
          "metadata": {
            "needs_background": "light"
          }
        }
      ]
    },
    {
      "cell_type": "code",
      "metadata": {
        "id": "xYe1nIyjifut"
      },
      "source": [
        "# Creating a data structure with 50 timesteps and 1 output\n",
        "X_train = []\n",
        "Y_train = []\n",
        "timesteps = 50\n",
        "\n",
        "for i in range(timesteps,N) :\n",
        "  X_train.append(train_scaled[i-timesteps:i, 0])\n",
        "  Y_train.append(train_scaled[i, 0])\n",
        "X_train, Y_train = np.array(X_train), np.array(Y_train)"
      ],
      "execution_count": 15,
      "outputs": []
    },
    {
      "cell_type": "code",
      "metadata": {
        "colab": {
          "base_uri": "https://localhost:8080/"
        },
        "id": "NDgrB2JijMgs",
        "outputId": "e681b0bc-6277-453f-f1a6-a685fb59a302"
      },
      "source": [
        "print('X_train shape : ', X_train.shape)\n",
        "print('Y_train shape : ', Y_train.shape)"
      ],
      "execution_count": 16,
      "outputs": [
        {
          "output_type": "stream",
          "text": [
            "X_train shape :  (950, 50)\n",
            "Y_train shape :  (950,)\n"
          ],
          "name": "stdout"
        }
      ]
    },
    {
      "cell_type": "code",
      "metadata": {
        "id": "PImdo23oj2Af"
      },
      "source": [
        "# Reshaping\n",
        "X_train = np.reshape(X_train, (X_train.shape[0], X_train.shape[1], 1))"
      ],
      "execution_count": 18,
      "outputs": []
    },
    {
      "cell_type": "code",
      "metadata": {
        "colab": {
          "base_uri": "https://localhost:8080/"
        },
        "id": "vcOqozLcky3P",
        "outputId": "af28f245-c66d-4a82-87a6-42511e8dd50a"
      },
      "source": [
        "print('X_train shape : ', X_train.shape)\n",
        "print('Y_train shape : ', Y_train.shape)"
      ],
      "execution_count": 19,
      "outputs": [
        {
          "output_type": "stream",
          "text": [
            "X_train shape :  (950, 50, 1)\n",
            "Y_train shape :  (950,)\n"
          ],
          "name": "stdout"
        }
      ]
    },
    {
      "cell_type": "code",
      "metadata": {
        "colab": {
          "base_uri": "https://localhost:8080/"
        },
        "id": "sfdgrEo9k88B",
        "outputId": "2e8f41d3-ef4c-4dd6-d082-fd5887c85700"
      },
      "source": [
        "import math\n",
        "from keras.models import Sequential\n",
        "from keras.layers import Dense, Dropout, Activation\n",
        "from keras.layers import LSTM\n",
        "from sklearn.metrics import mean_squared_error\n",
        "\n",
        "# model\n",
        "model = Sequential()\n",
        "model.add(LSTM(128, input_shape=(timesteps, 1), return_sequences=True)) # 128 lstm neuron(block)\n",
        "model.add(LSTM(64, return_sequences=True)) # 64 lstm neuron(block)\n",
        "model.add(Dropout(0.2))\n",
        "model.add(LSTM(32)) # 128 lstm neuron(block)\n",
        "model.add(Dropout(0.2))\n",
        "\n",
        "model.add(Dense(1))\n",
        "model.add(Activation('sigmoid'))\n",
        "          \n",
        "model.compile(loss='mean_squared_error', optimizer='adam')\n",
        "model.fit(X_train, Y_train, epochs=250, batch_size=32)"
      ],
      "execution_count": 20,
      "outputs": [
        {
          "output_type": "stream",
          "text": [
            "Epoch 1/250\n",
            "30/30 [==============================] - 9s 111ms/step - loss: 0.0166\n",
            "Epoch 2/250\n",
            "30/30 [==============================] - 3s 107ms/step - loss: 0.0054\n",
            "Epoch 3/250\n",
            "30/30 [==============================] - 3s 106ms/step - loss: 0.0041\n",
            "Epoch 4/250\n",
            "30/30 [==============================] - 3s 105ms/step - loss: 0.0032\n",
            "Epoch 5/250\n",
            "30/30 [==============================] - 3s 107ms/step - loss: 0.0031\n",
            "Epoch 6/250\n",
            "30/30 [==============================] - 3s 107ms/step - loss: 0.0026\n",
            "Epoch 7/250\n",
            "30/30 [==============================] - 3s 106ms/step - loss: 0.0024\n",
            "Epoch 8/250\n",
            "30/30 [==============================] - 3s 106ms/step - loss: 0.0024\n",
            "Epoch 9/250\n",
            "30/30 [==============================] - 3s 105ms/step - loss: 0.0025\n",
            "Epoch 10/250\n",
            "30/30 [==============================] - 3s 108ms/step - loss: 0.0021\n",
            "Epoch 11/250\n",
            "30/30 [==============================] - 3s 107ms/step - loss: 0.0021\n",
            "Epoch 12/250\n",
            "30/30 [==============================] - 3s 106ms/step - loss: 0.0020\n",
            "Epoch 13/250\n",
            "30/30 [==============================] - 3s 105ms/step - loss: 0.0018\n",
            "Epoch 14/250\n",
            "30/30 [==============================] - 3s 107ms/step - loss: 0.0019\n",
            "Epoch 15/250\n",
            "30/30 [==============================] - 3s 107ms/step - loss: 0.0017\n",
            "Epoch 16/250\n",
            "30/30 [==============================] - 3s 108ms/step - loss: 0.0017\n",
            "Epoch 17/250\n",
            "30/30 [==============================] - 3s 108ms/step - loss: 0.0017\n",
            "Epoch 18/250\n",
            "30/30 [==============================] - 3s 107ms/step - loss: 0.0015\n",
            "Epoch 19/250\n",
            "30/30 [==============================] - 3s 108ms/step - loss: 0.0014\n",
            "Epoch 20/250\n",
            "30/30 [==============================] - 3s 107ms/step - loss: 0.0015\n",
            "Epoch 21/250\n",
            "30/30 [==============================] - 3s 107ms/step - loss: 0.0014\n",
            "Epoch 22/250\n",
            "30/30 [==============================] - 3s 107ms/step - loss: 0.0013\n",
            "Epoch 23/250\n",
            "30/30 [==============================] - 3s 107ms/step - loss: 0.0014\n",
            "Epoch 24/250\n",
            "30/30 [==============================] - 3s 108ms/step - loss: 0.0013\n",
            "Epoch 25/250\n",
            "30/30 [==============================] - 3s 109ms/step - loss: 0.0012\n",
            "Epoch 26/250\n",
            "30/30 [==============================] - 3s 108ms/step - loss: 0.0011\n",
            "Epoch 27/250\n",
            "30/30 [==============================] - 3s 108ms/step - loss: 0.0012\n",
            "Epoch 28/250\n",
            "30/30 [==============================] - 3s 108ms/step - loss: 0.0010\n",
            "Epoch 29/250\n",
            "30/30 [==============================] - 3s 108ms/step - loss: 0.0011\n",
            "Epoch 30/250\n",
            "30/30 [==============================] - 3s 107ms/step - loss: 0.0011\n",
            "Epoch 31/250\n",
            "30/30 [==============================] - 3s 106ms/step - loss: 0.0011\n",
            "Epoch 32/250\n",
            "30/30 [==============================] - 3s 107ms/step - loss: 0.0011\n",
            "Epoch 33/250\n",
            "30/30 [==============================] - 3s 109ms/step - loss: 0.0012\n",
            "Epoch 34/250\n",
            "30/30 [==============================] - 3s 107ms/step - loss: 9.7355e-04\n",
            "Epoch 35/250\n",
            "30/30 [==============================] - 3s 107ms/step - loss: 0.0010\n",
            "Epoch 36/250\n",
            "30/30 [==============================] - 3s 108ms/step - loss: 0.0011\n",
            "Epoch 37/250\n",
            "30/30 [==============================] - 3s 108ms/step - loss: 0.0012\n",
            "Epoch 38/250\n",
            "30/30 [==============================] - 3s 110ms/step - loss: 9.3597e-04\n",
            "Epoch 39/250\n",
            "30/30 [==============================] - 3s 109ms/step - loss: 9.2643e-04\n",
            "Epoch 40/250\n",
            "30/30 [==============================] - 3s 107ms/step - loss: 8.4103e-04\n",
            "Epoch 41/250\n",
            "30/30 [==============================] - 3s 105ms/step - loss: 8.9361e-04\n",
            "Epoch 42/250\n",
            "30/30 [==============================] - 3s 107ms/step - loss: 8.7703e-04\n",
            "Epoch 43/250\n",
            "30/30 [==============================] - 3s 107ms/step - loss: 8.8582e-04\n",
            "Epoch 44/250\n",
            "30/30 [==============================] - 3s 108ms/step - loss: 8.5704e-04\n",
            "Epoch 45/250\n",
            "30/30 [==============================] - 3s 106ms/step - loss: 8.4410e-04\n",
            "Epoch 46/250\n",
            "30/30 [==============================] - 3s 106ms/step - loss: 9.0927e-04\n",
            "Epoch 47/250\n",
            "30/30 [==============================] - 3s 109ms/step - loss: 8.1867e-04\n",
            "Epoch 48/250\n",
            "30/30 [==============================] - 3s 106ms/step - loss: 8.1182e-04\n",
            "Epoch 49/250\n",
            "30/30 [==============================] - 3s 108ms/step - loss: 8.3875e-04\n",
            "Epoch 50/250\n",
            "30/30 [==============================] - 3s 107ms/step - loss: 8.0916e-04\n",
            "Epoch 51/250\n",
            "30/30 [==============================] - 3s 107ms/step - loss: 7.7435e-04\n",
            "Epoch 52/250\n",
            "30/30 [==============================] - 3s 106ms/step - loss: 7.5193e-04\n",
            "Epoch 53/250\n",
            "30/30 [==============================] - 3s 107ms/step - loss: 8.2771e-04\n",
            "Epoch 54/250\n",
            "30/30 [==============================] - 3s 107ms/step - loss: 8.3833e-04\n",
            "Epoch 55/250\n",
            "30/30 [==============================] - 3s 108ms/step - loss: 7.8025e-04\n",
            "Epoch 56/250\n",
            "30/30 [==============================] - 3s 108ms/step - loss: 7.0681e-04\n",
            "Epoch 57/250\n",
            "30/30 [==============================] - 3s 107ms/step - loss: 7.3717e-04\n",
            "Epoch 58/250\n",
            "30/30 [==============================] - 3s 106ms/step - loss: 7.3305e-04\n",
            "Epoch 59/250\n",
            "30/30 [==============================] - 3s 107ms/step - loss: 7.3192e-04\n",
            "Epoch 60/250\n",
            "30/30 [==============================] - 3s 111ms/step - loss: 7.2602e-04\n",
            "Epoch 61/250\n",
            "30/30 [==============================] - 3s 108ms/step - loss: 7.7662e-04\n",
            "Epoch 62/250\n",
            "30/30 [==============================] - 3s 106ms/step - loss: 7.5470e-04\n",
            "Epoch 63/250\n",
            "30/30 [==============================] - 3s 105ms/step - loss: 8.1980e-04\n",
            "Epoch 64/250\n",
            "30/30 [==============================] - 3s 107ms/step - loss: 7.9738e-04\n",
            "Epoch 65/250\n",
            "30/30 [==============================] - 3s 107ms/step - loss: 7.3264e-04\n",
            "Epoch 66/250\n",
            "30/30 [==============================] - 3s 108ms/step - loss: 7.6006e-04\n",
            "Epoch 67/250\n",
            "30/30 [==============================] - 3s 106ms/step - loss: 7.9381e-04\n",
            "Epoch 68/250\n",
            "30/30 [==============================] - 3s 107ms/step - loss: 6.7108e-04\n",
            "Epoch 69/250\n",
            "30/30 [==============================] - 3s 107ms/step - loss: 7.3194e-04\n",
            "Epoch 70/250\n",
            "30/30 [==============================] - 3s 109ms/step - loss: 7.5698e-04\n",
            "Epoch 71/250\n",
            "30/30 [==============================] - 3s 108ms/step - loss: 7.2267e-04\n",
            "Epoch 72/250\n",
            "30/30 [==============================] - 3s 109ms/step - loss: 7.5508e-04\n",
            "Epoch 73/250\n",
            "30/30 [==============================] - 3s 108ms/step - loss: 8.3487e-04\n",
            "Epoch 74/250\n",
            "30/30 [==============================] - 3s 108ms/step - loss: 7.3639e-04\n",
            "Epoch 75/250\n",
            "30/30 [==============================] - 3s 110ms/step - loss: 6.4373e-04\n",
            "Epoch 76/250\n",
            "30/30 [==============================] - 3s 106ms/step - loss: 6.6059e-04\n",
            "Epoch 77/250\n",
            "30/30 [==============================] - 3s 107ms/step - loss: 6.7974e-04\n",
            "Epoch 78/250\n",
            "30/30 [==============================] - 3s 106ms/step - loss: 6.8560e-04\n",
            "Epoch 79/250\n",
            "30/30 [==============================] - 3s 107ms/step - loss: 6.3256e-04\n",
            "Epoch 80/250\n",
            "30/30 [==============================] - 3s 107ms/step - loss: 6.6775e-04\n",
            "Epoch 81/250\n",
            "30/30 [==============================] - 3s 107ms/step - loss: 6.3085e-04\n",
            "Epoch 82/250\n",
            "30/30 [==============================] - 3s 108ms/step - loss: 6.7347e-04\n",
            "Epoch 83/250\n",
            "30/30 [==============================] - 3s 106ms/step - loss: 6.9565e-04\n",
            "Epoch 84/250\n",
            "30/30 [==============================] - 3s 109ms/step - loss: 6.4730e-04\n",
            "Epoch 85/250\n",
            "30/30 [==============================] - 3s 108ms/step - loss: 6.2842e-04\n",
            "Epoch 86/250\n",
            "30/30 [==============================] - 3s 107ms/step - loss: 6.8768e-04\n",
            "Epoch 87/250\n",
            "30/30 [==============================] - 3s 106ms/step - loss: 6.0678e-04\n",
            "Epoch 88/250\n",
            "30/30 [==============================] - 3s 108ms/step - loss: 6.8524e-04\n",
            "Epoch 89/250\n",
            "30/30 [==============================] - 3s 109ms/step - loss: 6.6551e-04\n",
            "Epoch 90/250\n",
            "30/30 [==============================] - 3s 109ms/step - loss: 6.0513e-04\n",
            "Epoch 91/250\n",
            "30/30 [==============================] - 3s 108ms/step - loss: 7.3089e-04\n",
            "Epoch 92/250\n",
            "30/30 [==============================] - 3s 108ms/step - loss: 7.0962e-04\n",
            "Epoch 93/250\n",
            "30/30 [==============================] - 3s 108ms/step - loss: 6.0673e-04\n",
            "Epoch 94/250\n",
            "30/30 [==============================] - 3s 110ms/step - loss: 6.4597e-04\n",
            "Epoch 95/250\n",
            "30/30 [==============================] - 3s 108ms/step - loss: 7.4975e-04\n",
            "Epoch 96/250\n",
            "30/30 [==============================] - 3s 109ms/step - loss: 7.1032e-04\n",
            "Epoch 97/250\n",
            "30/30 [==============================] - 3s 109ms/step - loss: 6.3746e-04\n",
            "Epoch 98/250\n",
            "30/30 [==============================] - 3s 109ms/step - loss: 5.9035e-04\n",
            "Epoch 99/250\n",
            "30/30 [==============================] - 3s 109ms/step - loss: 6.5376e-04\n",
            "Epoch 100/250\n",
            "30/30 [==============================] - 3s 109ms/step - loss: 6.2744e-04\n",
            "Epoch 101/250\n",
            "30/30 [==============================] - 3s 108ms/step - loss: 5.6174e-04\n",
            "Epoch 102/250\n",
            "30/30 [==============================] - 3s 107ms/step - loss: 6.9699e-04\n",
            "Epoch 103/250\n",
            "30/30 [==============================] - 3s 109ms/step - loss: 6.5845e-04\n",
            "Epoch 104/250\n",
            "30/30 [==============================] - 3s 106ms/step - loss: 5.5542e-04\n",
            "Epoch 105/250\n",
            "30/30 [==============================] - 3s 107ms/step - loss: 6.1887e-04\n",
            "Epoch 106/250\n",
            "30/30 [==============================] - 3s 108ms/step - loss: 6.4020e-04\n",
            "Epoch 107/250\n",
            "30/30 [==============================] - 3s 107ms/step - loss: 5.6337e-04\n",
            "Epoch 108/250\n",
            "30/30 [==============================] - 3s 109ms/step - loss: 6.6948e-04\n",
            "Epoch 109/250\n",
            "30/30 [==============================] - 3s 109ms/step - loss: 7.0473e-04\n",
            "Epoch 110/250\n",
            "30/30 [==============================] - 3s 108ms/step - loss: 6.2841e-04\n",
            "Epoch 111/250\n",
            "30/30 [==============================] - 3s 108ms/step - loss: 6.2206e-04\n",
            "Epoch 112/250\n",
            "30/30 [==============================] - 3s 109ms/step - loss: 6.6448e-04\n",
            "Epoch 113/250\n",
            "30/30 [==============================] - 3s 107ms/step - loss: 5.9854e-04\n",
            "Epoch 114/250\n",
            "30/30 [==============================] - 3s 108ms/step - loss: 6.4605e-04\n",
            "Epoch 115/250\n",
            "30/30 [==============================] - 3s 110ms/step - loss: 6.5029e-04\n",
            "Epoch 116/250\n",
            "30/30 [==============================] - 3s 111ms/step - loss: 6.4417e-04\n",
            "Epoch 117/250\n",
            "30/30 [==============================] - 3s 109ms/step - loss: 6.2739e-04\n",
            "Epoch 118/250\n",
            "30/30 [==============================] - 3s 108ms/step - loss: 6.8405e-04\n",
            "Epoch 119/250\n",
            "30/30 [==============================] - 3s 108ms/step - loss: 5.6919e-04\n",
            "Epoch 120/250\n",
            "30/30 [==============================] - 3s 109ms/step - loss: 6.0873e-04\n",
            "Epoch 121/250\n",
            "30/30 [==============================] - 3s 110ms/step - loss: 6.4395e-04\n",
            "Epoch 122/250\n",
            "30/30 [==============================] - 3s 108ms/step - loss: 6.2691e-04\n",
            "Epoch 123/250\n",
            "30/30 [==============================] - 3s 107ms/step - loss: 5.6145e-04\n",
            "Epoch 124/250\n",
            "30/30 [==============================] - 3s 106ms/step - loss: 6.0741e-04\n",
            "Epoch 125/250\n",
            "30/30 [==============================] - 3s 108ms/step - loss: 6.4874e-04\n",
            "Epoch 126/250\n",
            "30/30 [==============================] - 3s 108ms/step - loss: 6.2302e-04\n",
            "Epoch 127/250\n",
            "30/30 [==============================] - 3s 106ms/step - loss: 6.0862e-04\n",
            "Epoch 128/250\n",
            "30/30 [==============================] - 3s 108ms/step - loss: 6.1874e-04\n",
            "Epoch 129/250\n",
            "30/30 [==============================] - 3s 109ms/step - loss: 6.4321e-04\n",
            "Epoch 130/250\n",
            "30/30 [==============================] - 3s 110ms/step - loss: 6.4408e-04\n",
            "Epoch 131/250\n",
            "30/30 [==============================] - 3s 109ms/step - loss: 6.5016e-04\n",
            "Epoch 132/250\n",
            "30/30 [==============================] - 3s 108ms/step - loss: 6.5350e-04\n",
            "Epoch 133/250\n",
            "30/30 [==============================] - 3s 108ms/step - loss: 6.5275e-04\n",
            "Epoch 134/250\n",
            "30/30 [==============================] - 3s 107ms/step - loss: 7.0280e-04\n",
            "Epoch 135/250\n",
            "30/30 [==============================] - 3s 109ms/step - loss: 6.0655e-04\n",
            "Epoch 136/250\n",
            "30/30 [==============================] - 3s 107ms/step - loss: 6.1807e-04\n",
            "Epoch 137/250\n",
            "30/30 [==============================] - 3s 108ms/step - loss: 6.1885e-04\n",
            "Epoch 138/250\n",
            "30/30 [==============================] - 3s 109ms/step - loss: 6.1608e-04\n",
            "Epoch 139/250\n",
            "30/30 [==============================] - 3s 107ms/step - loss: 5.8540e-04\n",
            "Epoch 140/250\n",
            "30/30 [==============================] - 3s 109ms/step - loss: 5.6156e-04\n",
            "Epoch 141/250\n",
            "30/30 [==============================] - 3s 107ms/step - loss: 6.3772e-04\n",
            "Epoch 142/250\n",
            "30/30 [==============================] - 3s 107ms/step - loss: 5.9831e-04\n",
            "Epoch 143/250\n",
            "30/30 [==============================] - 3s 107ms/step - loss: 5.8273e-04\n",
            "Epoch 144/250\n",
            "30/30 [==============================] - 3s 108ms/step - loss: 5.7345e-04\n",
            "Epoch 145/250\n",
            "30/30 [==============================] - 3s 108ms/step - loss: 6.4515e-04\n",
            "Epoch 146/250\n",
            "30/30 [==============================] - 3s 107ms/step - loss: 6.7372e-04\n",
            "Epoch 147/250\n",
            "30/30 [==============================] - 3s 107ms/step - loss: 5.8538e-04\n",
            "Epoch 148/250\n",
            "30/30 [==============================] - 3s 108ms/step - loss: 5.9255e-04\n",
            "Epoch 149/250\n",
            "30/30 [==============================] - 3s 110ms/step - loss: 6.2832e-04\n",
            "Epoch 150/250\n",
            "30/30 [==============================] - 3s 108ms/step - loss: 5.8708e-04\n",
            "Epoch 151/250\n",
            "30/30 [==============================] - 3s 109ms/step - loss: 6.2727e-04\n",
            "Epoch 152/250\n",
            "30/30 [==============================] - 3s 107ms/step - loss: 6.7845e-04\n",
            "Epoch 153/250\n",
            "30/30 [==============================] - 3s 108ms/step - loss: 6.4760e-04\n",
            "Epoch 154/250\n",
            "30/30 [==============================] - 3s 108ms/step - loss: 6.0795e-04\n",
            "Epoch 155/250\n",
            "30/30 [==============================] - 3s 107ms/step - loss: 5.6527e-04\n",
            "Epoch 156/250\n",
            "30/30 [==============================] - 3s 107ms/step - loss: 7.3653e-04\n",
            "Epoch 157/250\n",
            "30/30 [==============================] - 3s 107ms/step - loss: 6.4679e-04\n",
            "Epoch 158/250\n",
            "30/30 [==============================] - 3s 110ms/step - loss: 7.0332e-04\n",
            "Epoch 159/250\n",
            "30/30 [==============================] - 3s 109ms/step - loss: 5.8523e-04\n",
            "Epoch 160/250\n",
            "30/30 [==============================] - 3s 109ms/step - loss: 5.9999e-04\n",
            "Epoch 161/250\n",
            "30/30 [==============================] - 3s 108ms/step - loss: 6.0180e-04\n",
            "Epoch 162/250\n",
            "30/30 [==============================] - 3s 107ms/step - loss: 6.2635e-04\n",
            "Epoch 163/250\n",
            "30/30 [==============================] - 3s 108ms/step - loss: 5.8188e-04\n",
            "Epoch 164/250\n",
            "30/30 [==============================] - 3s 108ms/step - loss: 6.3177e-04\n",
            "Epoch 165/250\n",
            "30/30 [==============================] - 3s 106ms/step - loss: 6.2742e-04\n",
            "Epoch 166/250\n",
            "30/30 [==============================] - 3s 108ms/step - loss: 6.6618e-04\n",
            "Epoch 167/250\n",
            "30/30 [==============================] - 3s 110ms/step - loss: 6.2973e-04\n",
            "Epoch 168/250\n",
            "30/30 [==============================] - 3s 109ms/step - loss: 7.1618e-04\n",
            "Epoch 169/250\n",
            "30/30 [==============================] - 3s 108ms/step - loss: 6.0103e-04\n",
            "Epoch 170/250\n",
            "30/30 [==============================] - 3s 109ms/step - loss: 6.1605e-04\n",
            "Epoch 171/250\n",
            "30/30 [==============================] - 3s 108ms/step - loss: 6.9558e-04\n",
            "Epoch 172/250\n",
            "30/30 [==============================] - 3s 109ms/step - loss: 7.1309e-04\n",
            "Epoch 173/250\n",
            "30/30 [==============================] - 3s 108ms/step - loss: 6.3071e-04\n",
            "Epoch 174/250\n",
            "30/30 [==============================] - 3s 108ms/step - loss: 5.7007e-04\n",
            "Epoch 175/250\n",
            "30/30 [==============================] - 3s 107ms/step - loss: 5.9789e-04\n",
            "Epoch 176/250\n",
            "30/30 [==============================] - 3s 107ms/step - loss: 6.2012e-04\n",
            "Epoch 177/250\n",
            "30/30 [==============================] - 3s 108ms/step - loss: 6.0754e-04\n",
            "Epoch 178/250\n",
            "30/30 [==============================] - 3s 108ms/step - loss: 5.5503e-04\n",
            "Epoch 179/250\n",
            "30/30 [==============================] - 3s 109ms/step - loss: 5.7768e-04\n",
            "Epoch 180/250\n",
            "30/30 [==============================] - 3s 108ms/step - loss: 5.8561e-04\n",
            "Epoch 181/250\n",
            "30/30 [==============================] - 3s 108ms/step - loss: 6.0413e-04\n",
            "Epoch 182/250\n",
            "30/30 [==============================] - 3s 108ms/step - loss: 5.8251e-04\n",
            "Epoch 183/250\n",
            "30/30 [==============================] - 3s 109ms/step - loss: 6.0604e-04\n",
            "Epoch 184/250\n",
            "30/30 [==============================] - 3s 109ms/step - loss: 6.0263e-04\n",
            "Epoch 185/250\n",
            "30/30 [==============================] - 3s 109ms/step - loss: 5.8671e-04\n",
            "Epoch 186/250\n",
            "30/30 [==============================] - 3s 110ms/step - loss: 6.3348e-04\n",
            "Epoch 187/250\n",
            "30/30 [==============================] - 3s 108ms/step - loss: 6.0915e-04\n",
            "Epoch 188/250\n",
            "30/30 [==============================] - 3s 109ms/step - loss: 6.1511e-04\n",
            "Epoch 189/250\n",
            "30/30 [==============================] - 3s 109ms/step - loss: 6.2472e-04\n",
            "Epoch 190/250\n",
            "30/30 [==============================] - 3s 109ms/step - loss: 6.1291e-04\n",
            "Epoch 191/250\n",
            "30/30 [==============================] - 3s 109ms/step - loss: 6.1038e-04\n",
            "Epoch 192/250\n",
            "30/30 [==============================] - 3s 109ms/step - loss: 5.6234e-04\n",
            "Epoch 193/250\n",
            "30/30 [==============================] - 3s 108ms/step - loss: 5.9087e-04\n",
            "Epoch 194/250\n",
            "30/30 [==============================] - 3s 108ms/step - loss: 5.5892e-04\n",
            "Epoch 195/250\n",
            "30/30 [==============================] - 3s 112ms/step - loss: 6.0367e-04\n",
            "Epoch 196/250\n",
            "30/30 [==============================] - 3s 109ms/step - loss: 6.0528e-04\n",
            "Epoch 197/250\n",
            "30/30 [==============================] - 3s 111ms/step - loss: 6.1736e-04\n",
            "Epoch 198/250\n",
            "30/30 [==============================] - 3s 109ms/step - loss: 6.2079e-04\n",
            "Epoch 199/250\n",
            "30/30 [==============================] - 3s 109ms/step - loss: 5.6079e-04\n",
            "Epoch 200/250\n",
            "30/30 [==============================] - 3s 111ms/step - loss: 5.6827e-04\n",
            "Epoch 201/250\n",
            "30/30 [==============================] - 3s 111ms/step - loss: 5.6711e-04\n",
            "Epoch 202/250\n",
            "30/30 [==============================] - 3s 108ms/step - loss: 5.8111e-04\n",
            "Epoch 203/250\n",
            "30/30 [==============================] - 3s 109ms/step - loss: 5.7166e-04\n",
            "Epoch 204/250\n",
            "30/30 [==============================] - 3s 109ms/step - loss: 6.1197e-04\n",
            "Epoch 205/250\n",
            "30/30 [==============================] - 3s 108ms/step - loss: 5.3482e-04\n",
            "Epoch 206/250\n",
            "30/30 [==============================] - 3s 110ms/step - loss: 5.4823e-04\n",
            "Epoch 207/250\n",
            "30/30 [==============================] - 3s 109ms/step - loss: 5.5021e-04\n",
            "Epoch 208/250\n",
            "30/30 [==============================] - 3s 111ms/step - loss: 6.0504e-04\n",
            "Epoch 209/250\n",
            "30/30 [==============================] - 3s 109ms/step - loss: 5.9123e-04\n",
            "Epoch 210/250\n",
            "30/30 [==============================] - 3s 108ms/step - loss: 6.1269e-04\n",
            "Epoch 211/250\n",
            "30/30 [==============================] - 3s 110ms/step - loss: 6.0886e-04\n",
            "Epoch 212/250\n",
            "30/30 [==============================] - 3s 110ms/step - loss: 5.5738e-04\n",
            "Epoch 213/250\n",
            "30/30 [==============================] - 3s 113ms/step - loss: 5.4632e-04\n",
            "Epoch 214/250\n",
            "30/30 [==============================] - 3s 110ms/step - loss: 5.6750e-04\n",
            "Epoch 215/250\n",
            "30/30 [==============================] - 3s 108ms/step - loss: 6.4620e-04\n",
            "Epoch 216/250\n",
            "30/30 [==============================] - 3s 109ms/step - loss: 5.9660e-04\n",
            "Epoch 217/250\n",
            "30/30 [==============================] - 3s 108ms/step - loss: 6.1797e-04\n",
            "Epoch 218/250\n",
            "30/30 [==============================] - 3s 108ms/step - loss: 5.8346e-04\n",
            "Epoch 219/250\n",
            "30/30 [==============================] - 3s 110ms/step - loss: 6.0551e-04\n",
            "Epoch 220/250\n",
            "30/30 [==============================] - 3s 109ms/step - loss: 6.0010e-04\n",
            "Epoch 221/250\n",
            "30/30 [==============================] - 3s 110ms/step - loss: 5.8760e-04\n",
            "Epoch 222/250\n",
            "30/30 [==============================] - 3s 114ms/step - loss: 6.4356e-04\n",
            "Epoch 223/250\n",
            "30/30 [==============================] - 3s 109ms/step - loss: 6.0613e-04\n",
            "Epoch 224/250\n",
            "30/30 [==============================] - 3s 109ms/step - loss: 6.0524e-04\n",
            "Epoch 225/250\n",
            "30/30 [==============================] - 3s 108ms/step - loss: 6.3762e-04\n",
            "Epoch 226/250\n",
            "30/30 [==============================] - 3s 109ms/step - loss: 5.5386e-04\n",
            "Epoch 227/250\n",
            "30/30 [==============================] - 3s 108ms/step - loss: 6.0408e-04\n",
            "Epoch 228/250\n",
            "30/30 [==============================] - 3s 107ms/step - loss: 6.7519e-04\n",
            "Epoch 229/250\n",
            "30/30 [==============================] - 3s 108ms/step - loss: 6.7866e-04\n",
            "Epoch 230/250\n",
            "30/30 [==============================] - 3s 108ms/step - loss: 6.1209e-04\n",
            "Epoch 231/250\n",
            "30/30 [==============================] - 3s 110ms/step - loss: 5.8263e-04\n",
            "Epoch 232/250\n",
            "30/30 [==============================] - 3s 109ms/step - loss: 6.2048e-04\n",
            "Epoch 233/250\n",
            "30/30 [==============================] - 3s 108ms/step - loss: 6.2284e-04\n",
            "Epoch 234/250\n",
            "30/30 [==============================] - 3s 110ms/step - loss: 5.5826e-04\n",
            "Epoch 235/250\n",
            "30/30 [==============================] - 3s 110ms/step - loss: 5.7420e-04\n",
            "Epoch 236/250\n",
            "30/30 [==============================] - 3s 110ms/step - loss: 5.9775e-04\n",
            "Epoch 237/250\n",
            "30/30 [==============================] - 3s 110ms/step - loss: 5.7099e-04\n",
            "Epoch 238/250\n",
            "30/30 [==============================] - 3s 111ms/step - loss: 5.5773e-04\n",
            "Epoch 239/250\n",
            "30/30 [==============================] - 3s 110ms/step - loss: 5.9652e-04\n",
            "Epoch 240/250\n",
            "30/30 [==============================] - 3s 108ms/step - loss: 5.5240e-04\n",
            "Epoch 241/250\n",
            "30/30 [==============================] - 3s 112ms/step - loss: 5.6920e-04\n",
            "Epoch 242/250\n",
            "30/30 [==============================] - 3s 110ms/step - loss: 6.2117e-04\n",
            "Epoch 243/250\n",
            "30/30 [==============================] - 3s 111ms/step - loss: 6.7660e-04\n",
            "Epoch 244/250\n",
            "30/30 [==============================] - 3s 110ms/step - loss: 5.8572e-04\n",
            "Epoch 245/250\n",
            "30/30 [==============================] - 3s 109ms/step - loss: 6.0279e-04\n",
            "Epoch 246/250\n",
            "30/30 [==============================] - 3s 108ms/step - loss: 6.5758e-04\n",
            "Epoch 247/250\n",
            "30/30 [==============================] - 3s 109ms/step - loss: 5.9841e-04\n",
            "Epoch 248/250\n",
            "30/30 [==============================] - 3s 108ms/step - loss: 5.9469e-04\n",
            "Epoch 249/250\n",
            "30/30 [==============================] - 3s 108ms/step - loss: 5.8514e-04\n",
            "Epoch 250/250\n",
            "30/30 [==============================] - 3s 110ms/step - loss: 5.7333e-04\n"
          ],
          "name": "stdout"
        },
        {
          "output_type": "execute_result",
          "data": {
            "text/plain": [
              "<keras.callbacks.History at 0x7fc396278ad0>"
            ]
          },
          "metadata": {},
          "execution_count": 20
        }
      ]
    },
    {
      "cell_type": "code",
      "metadata": {
        "colab": {
          "base_uri": "https://localhost:8080/"
        },
        "id": "7-5Vkbqqlcg0",
        "outputId": "a668af88-7934-45d2-885e-94e951641a29"
      },
      "source": [
        "predicted_stock_price = []\n",
        "\n",
        "X_test = X_train[(N-51),:]\n",
        "X_test = np.array(X_test)\n",
        "X_test = np.reshape(X_test, (1,X_test.shape[0], X_test.shape[1]))\n",
        "a=model.predict(X_test)\n",
        "predicted_stock_price = np.append(predicted_stock_price, a)\n",
        "X_test = np.append(X_test, predicted_stock_price)\n",
        "X_test"
      ],
      "execution_count": 21,
      "outputs": [
        {
          "output_type": "execute_result",
          "data": {
            "text/plain": [
              "array([0.23123563, 0.22935396, 0.23374451, 0.23081748, 0.21931842,\n",
              "       0.23478988, 0.2314447 , 0.22140916, 0.2393895 , 0.22245453,\n",
              "       0.2059377 , 0.19506586, 0.1875392 , 0.20196529, 0.19506586,\n",
              "       0.18293958, 0.18670291, 0.18942087, 0.20426511, 0.19903826,\n",
              "       0.18774828, 0.20259252, 0.21200084, 0.18962994, 0.18983901,\n",
              "       0.18586661, 0.1875392 , 0.18043069, 0.1835668 , 0.16224127,\n",
              "       0.15847794, 0.14990592, 0.13861593, 0.1436337 , 0.14802425,\n",
              "       0.15304202, 0.14405185, 0.13798871, 0.13255279, 0.1308802 ,\n",
              "       0.12711687, 0.11791762, 0.11645411, 0.11540874, 0.11457244,\n",
              "       0.10390968, 0.1093456 , 0.10620949, 0.10202802, 0.0997282 ,\n",
              "       0.10910493])"
            ]
          },
          "metadata": {},
          "execution_count": 21
        }
      ]
    },
    {
      "cell_type": "code",
      "metadata": {
        "id": "VajpzOManHKc"
      },
      "source": [
        "for i in range(1,(1226-N)):\n",
        "    X_test = X_test[1:51]\n",
        "    X_test = np.array(X_test)\n",
        "    X_test = np.reshape(X_test, (1, 50, 1))\n",
        "    a = model.predict(X_test)\n",
        "    predicted_stock_price = np.append(predicted_stock_price, a)  \n",
        "    X_test = np.append(X_test, predicted_stock_price[i])"
      ],
      "execution_count": 22,
      "outputs": []
    },
    {
      "cell_type": "code",
      "metadata": {
        "colab": {
          "base_uri": "https://localhost:8080/"
        },
        "id": "fRODmuZpnLiB",
        "outputId": "cf0c1b73-56bf-4a42-b0df-ff1452c47208"
      },
      "source": [
        "predicted_stock_price = scaler.inverse_transform(predicted_stock_price.reshape(-1,1))\n",
        "predicted_stock_price.shape"
      ],
      "execution_count": 23,
      "outputs": [
        {
          "output_type": "execute_result",
          "data": {
            "text/plain": [
              "(226, 1)"
            ]
          },
          "metadata": {},
          "execution_count": 23
        }
      ]
    },
    {
      "cell_type": "code",
      "metadata": {
        "colab": {
          "base_uri": "https://localhost:8080/",
          "height": 265
        },
        "id": "bj65SoxpnP0P",
        "outputId": "c22499a5-a9f7-4683-e0c4-3e2a23a1021c"
      },
      "source": [
        "plt.plot(train[:N])\n",
        "plt.show()"
      ],
      "execution_count": 24,
      "outputs": [
        {
          "output_type": "display_data",
          "data": {
            "image/png": "[encoded data removed]",
            "text/plain": [
              "<Figure size 432x288 with 1 Axes>"
            ]
          },
          "metadata": {
            "needs_background": "light"
          }
        }
      ]
    },
    {
      "cell_type": "code",
      "metadata": {
        "colab": {
          "base_uri": "https://localhost:8080/",
          "height": 279
        },
        "id": "MpT65P-tnV2F",
        "outputId": "b2c7fd81-a45f-4454-b130-d603967f300f"
      },
      "source": [
        "# we are going to predict \n",
        "plt.plot(train[N:], color = 'blue', label = 'Real Google Stock Price')\n",
        "#plt.title('Google Stock Price Prediction')\n",
        "plt.xlabel('Time')\n",
        "plt.ylabel('Google Stock Price')\n",
        "plt.legend()\n",
        "plt.show()\n"
      ],
      "execution_count": 25,
      "outputs": [
        {
          "output_type": "display_data",
          "data": {
            "image/png": "[encoded data removed]",
            "text/plain": [
              "<Figure size 432x288 with 1 Axes>"
            ]
          },
          "metadata": {
            "needs_background": "light"
          }
        }
      ]
    },
    {
      "cell_type": "code",
      "metadata": {
        "colab": {
          "base_uri": "https://localhost:8080/",
          "height": 295
        },
        "id": "E48u7RdLneX4",
        "outputId": "8bff6b62-66cf-429f-f4b1-cc2a141b56e4"
      },
      "source": [
        "# Visualising the results\n",
        "# plt.plot(train[1216:].reshape(-1,1), color = 'blue', label = 'Real Google Stock Price')\n",
        "plt.plot(predicted_stock_price, color = 'red', label = 'Predicted Google Stock Price')\n",
        "plt.title('Google Stock Price Prediction')\n",
        "plt.xlabel('Time')\n",
        "plt.ylabel('Google Stock Price')\n",
        "plt.legend()\n",
        "plt.show()"
      ],
      "execution_count": 26,
      "outputs": [
        {
          "output_type": "display_data",
          "data": {
            "image/png": "[encoded data removed]",
            "text/plain": [
              "<Figure size 432x288 with 1 Axes>"
            ]
          },
          "metadata": {
            "needs_background": "light"
          }
        }
      ]
    },
    {
      "cell_type": "code",
      "metadata": {
        "id": "C_KmQTkfpnBc"
      },
      "source": [
        ""
      ],
      "execution_count": null,
      "outputs": []
    }
  ]
}